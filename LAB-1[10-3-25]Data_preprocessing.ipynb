{
  "nbformat": 4,
  "nbformat_minor": 0,
  "metadata": {
    "colab": {
      "provenance": []
    },
    "kernelspec": {
      "name": "python3",
      "display_name": "Python 3"
    },
    "language_info": {
      "name": "python"
    }
  },
  "cells": [
    {
      "cell_type": "code",
      "execution_count": null,
      "metadata": {
        "colab": {
          "base_uri": "https://localhost:8080/"
        },
        "id": "kKNYfQ2JSpVS",
        "outputId": "e892befc-6a73-4cac-a216-81db83586470"
      },
      "outputs": [
        {
          "output_type": "stream",
          "name": "stdout",
          "text": [
            "<class 'pandas.core.frame.DataFrame'>\n",
            "RangeIndex: 20640 entries, 0 to 20639\n",
            "Data columns (total 10 columns):\n",
            " #   Column              Non-Null Count  Dtype  \n",
            "---  ------              --------------  -----  \n",
            " 0   longitude           20640 non-null  float64\n",
            " 1   latitude            20640 non-null  float64\n",
            " 2   housing_median_age  20640 non-null  float64\n",
            " 3   total_rooms         20640 non-null  float64\n",
            " 4   total_bedrooms      20433 non-null  float64\n",
            " 5   population          20640 non-null  float64\n",
            " 6   households          20640 non-null  float64\n",
            " 7   median_income       20640 non-null  float64\n",
            " 8   median_house_value  20640 non-null  float64\n",
            " 9   ocean_proximity     20640 non-null  object \n",
            "dtypes: float64(9), object(1)\n",
            "memory usage: 1.6+ MB\n",
            "None\n"
          ]
        }
      ],
      "source": [
        "import pandas as pd\n",
        "import numpy as np\n",
        "import matplotlib.pyplot as plt\n",
        "import seaborn as sns\n",
        "from sklearn.preprocessing import StandardScaler, MinMaxScaler\n",
        "from sklearn.impute import SimpleImputer\n",
        "from sklearn.model_selection import train_test_split\n",
        "\n",
        "df1 = pd.read_csv('/content/housing.csv')\n",
        "print(df1.info())"
      ]
    },
    {
      "cell_type": "code",
      "source": [
        "print(df1.describe())"
      ],
      "metadata": {
        "colab": {
          "base_uri": "https://localhost:8080/"
        },
        "id": "iBKQEBN0Tr3O",
        "outputId": "b24adffd-b4e0-4c59-b52c-1861be826c7d"
      },
      "execution_count": null,
      "outputs": [
        {
          "output_type": "stream",
          "name": "stdout",
          "text": [
            "          longitude      latitude  housing_median_age   total_rooms  \\\n",
            "count  20640.000000  20640.000000        20640.000000  20640.000000   \n",
            "mean    -119.569704     35.631861           28.639486   2635.763081   \n",
            "std        2.003532      2.135952           12.585558   2181.615252   \n",
            "min     -124.350000     32.540000            1.000000      2.000000   \n",
            "25%     -121.800000     33.930000           18.000000   1447.750000   \n",
            "50%     -118.490000     34.260000           29.000000   2127.000000   \n",
            "75%     -118.010000     37.710000           37.000000   3148.000000   \n",
            "max     -114.310000     41.950000           52.000000  39320.000000   \n",
            "\n",
            "       total_bedrooms    population    households  median_income  \\\n",
            "count    20433.000000  20640.000000  20640.000000   20640.000000   \n",
            "mean       537.870553   1425.476744    499.539680       3.870671   \n",
            "std        421.385070   1132.462122    382.329753       1.899822   \n",
            "min          1.000000      3.000000      1.000000       0.499900   \n",
            "25%        296.000000    787.000000    280.000000       2.563400   \n",
            "50%        435.000000   1166.000000    409.000000       3.534800   \n",
            "75%        647.000000   1725.000000    605.000000       4.743250   \n",
            "max       6445.000000  35682.000000   6082.000000      15.000100   \n",
            "\n",
            "       median_house_value  \n",
            "count        20640.000000  \n",
            "mean        206855.816909  \n",
            "std         115395.615874  \n",
            "min          14999.000000  \n",
            "25%         119600.000000  \n",
            "50%         179700.000000  \n",
            "75%         264725.000000  \n",
            "max         500001.000000  \n"
          ]
        }
      ]
    },
    {
      "cell_type": "code",
      "source": [
        "print(\"Unique labels of Ocean proximity:\")\n",
        "print(df1['ocean_proximity'].unique())\n",
        "print(df1['ocean_proximity'].value_counts())"
      ],
      "metadata": {
        "colab": {
          "base_uri": "https://localhost:8080/"
        },
        "id": "2NY5VBH8UBs2",
        "outputId": "b29dbd9b-d14b-4a62-8f59-761c527a0ad9"
      },
      "execution_count": null,
      "outputs": [
        {
          "output_type": "stream",
          "name": "stdout",
          "text": [
            "Unique labels of Ocean proximity:\n",
            "['NEAR BAY' '<1H OCEAN' 'INLAND' 'NEAR OCEAN' 'ISLAND']\n",
            "ocean_proximity\n",
            "<1H OCEAN     9136\n",
            "INLAND        6551\n",
            "NEAR OCEAN    2658\n",
            "NEAR BAY      2290\n",
            "ISLAND           5\n",
            "Name: count, dtype: int64\n"
          ]
        }
      ]
    },
    {
      "cell_type": "code",
      "source": [
        "print(df1.isnull().sum())"
      ],
      "metadata": {
        "colab": {
          "base_uri": "https://localhost:8080/"
        },
        "id": "omYpqUY0UR-F",
        "outputId": "d19fb7ec-585f-46df-eea7-963e59b6bffc"
      },
      "execution_count": null,
      "outputs": [
        {
          "output_type": "stream",
          "name": "stdout",
          "text": [
            "longitude               0\n",
            "latitude                0\n",
            "housing_median_age      0\n",
            "total_rooms             0\n",
            "total_bedrooms        207\n",
            "population              0\n",
            "households              0\n",
            "median_income           0\n",
            "median_house_value      0\n",
            "ocean_proximity         0\n",
            "dtype: int64\n"
          ]
        }
      ]
    },
    {
      "cell_type": "code",
      "source": [
        "df2 = pd.read_csv('/content/Dataset_of_Diabetes.csv')\n",
        "print(df2.isnull().sum())"
      ],
      "metadata": {
        "colab": {
          "base_uri": "https://localhost:8080/"
        },
        "id": "wxW7vYSCUu1N",
        "outputId": "e6ac7534-e074-4038-b8ff-05181565fe3f"
      },
      "execution_count": null,
      "outputs": [
        {
          "output_type": "stream",
          "name": "stdout",
          "text": [
            "ID           0\n",
            "No_Pation    0\n",
            "Gender       0\n",
            "AGE          0\n",
            "Urea         0\n",
            "Cr           0\n",
            "HbA1c        0\n",
            "Chol         0\n",
            "TG           0\n",
            "HDL          0\n",
            "LDL          0\n",
            "VLDL         0\n",
            "BMI          0\n",
            "CLASS        0\n",
            "dtype: int64\n"
          ]
        }
      ]
    },
    {
      "cell_type": "code",
      "source": [
        "import pandas as pd\n",
        "import numpy as np\n",
        "from sklearn.preprocessing import MinMaxScaler, StandardScaler\n",
        "\n",
        "# Load the datasets\n",
        "adult_df = pd.read_csv('/adult.csv')\n",
        "diabetes_df = pd.read_csv('/content/Dataset_of_Diabetes.csv')\n",
        "\n",
        "# Function to handle missing values\n",
        "def handle_missing_values(df):\n",
        "    df = df.fillna(df.median(numeric_only=True))  # Fill numeric NaNs with median\n",
        "    df = df.fillna(df.mode().iloc[0])  # Fill categorical NaNs with mode\n",
        "    return df\n",
        "\n",
        "# Function to handle categorical data\n",
        "def encode_categorical(df):\n",
        "    df = pd.get_dummies(df, drop_first=True)  # One-hot encoding\n",
        "    return df\n",
        "\n",
        "# Function to handle outliers using IQR method\n",
        "def remove_outliers(df):\n",
        "    numeric_cols = df.select_dtypes(include=[np.number]).columns\n",
        "    for col in numeric_cols:\n",
        "        Q1 = df[col].quantile(0.25)\n",
        "        Q3 = df[col].quantile(0.75)\n",
        "        IQR = Q3 - Q1\n",
        "        lower_bound = Q1 - 1.5 * IQR\n",
        "        upper_bound = Q3 + 1.5 * IQR\n",
        "        df[col] = np.where((df[col] < lower_bound) | (df[col] > upper_bound), np.nan, df[col])\n",
        "    df = handle_missing_values(df)  # Refill outlier values\n",
        "    return df\n",
        "\n",
        "# Function to apply normalization and standardization\n",
        "def apply_scaling(df):\n",
        "    scaler_minmax = MinMaxScaler()\n",
        "    scaler_standard = StandardScaler()\n",
        "    numeric_cols = df.select_dtypes(include=[np.number]).columns\n",
        "\n",
        "    df[numeric_cols] = scaler_minmax.fit_transform(df[numeric_cols])  # Min-Max Scaling\n",
        "    df[numeric_cols] = scaler_standard.fit_transform(df[numeric_cols])  # Standardization\n",
        "\n",
        "    return df\n",
        "\n",
        "# Apply preprocessing to both datasets\n",
        "adult_df = handle_missing_values(adult_df)\n",
        "adult_df = encode_categorical(adult_df)\n",
        "adult_df = remove_outliers(adult_df)\n",
        "adult_df = apply_scaling(adult_df)\n",
        "\n",
        "diabetes_df = handle_missing_values(diabetes_df)\n",
        "diabetes_df = encode_categorical(diabetes_df)\n",
        "diabetes_df = remove_outliers(diabetes_df)\n",
        "diabetes_df = apply_scaling(diabetes_df)\n",
        "\n",
        "# Create the directory to save the preprocessed datasets\n",
        "!mkdir -p /mnt/data\n",
        "\n",
        "# Save the preprocessed datasets\n",
        "adult_df.to_csv('/mnt/data/adult_preprocessed.csv', index=False)\n",
        "diabetes_df.to_csv('/mnt/data/diabetes_preprocessed.csv', index=False)\n",
        "\n",
        "print(\"Preprocessing completed. Processed files saved as 'adult_preprocessed.csv' and 'diabetes_preprocessed.csv'\")\n"
      ],
      "metadata": {
        "colab": {
          "base_uri": "https://localhost:8080/"
        },
        "id": "x0B0e3tNWbFO",
        "outputId": "945c5ccd-bea5-41a4-81a2-a1d0c8467901"
      },
      "execution_count": null,
      "outputs": [
        {
          "output_type": "stream",
          "name": "stdout",
          "text": [
            "Preprocessing completed. Processed files saved as 'adult_preprocessed.csv' and 'diabetes_preprocessed.csv'\n"
          ]
        }
      ]
    }
  ]
}