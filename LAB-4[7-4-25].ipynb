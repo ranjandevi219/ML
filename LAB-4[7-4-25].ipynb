{
  "nbformat": 4,
  "nbformat_minor": 0,
  "metadata": {
    "colab": {
      "provenance": []
    },
    "kernelspec": {
      "name": "python3",
      "display_name": "Python 3"
    },
    "language_info": {
      "name": "python"
    }
  },
  "cells": [
    {
      "cell_type": "code",
      "execution_count": 2,
      "metadata": {
        "colab": {
          "base_uri": "https://localhost:8080/"
        },
        "id": "eQfAeWgmnvg6",
        "outputId": "e45124e7-a61a-4460-c44d-1ac35fd888ee"
      },
      "outputs": [
        {
          "output_type": "stream",
          "name": "stdout",
          "text": [
            "Predicted class for [6 6]: A\n",
            "Predicted class for [6, 6]: A\n",
            "Predicted class for [2, 3]: A\n",
            "Predicted class for [9, 10]: B\n"
          ]
        }
      ],
      "source": [
        "import numpy as np\n",
        "import pandas as pd\n",
        "from collections import Counter\n",
        "\n",
        "# Sample dataset (replace with your actual dataset)\n",
        "data = {'feature1': [1, 2, 3, 4, 5, 6, 7, 8, 9, 10],\n",
        "        'feature2': [2, 4, 1, 3, 5, 7, 6, 8, 10, 9],\n",
        "        'class': ['A', 'A', 'B', 'B', 'A', 'B', 'A', 'B', 'B', 'A']}\n",
        "df = pd.DataFrame(data)\n",
        "\n",
        "def euclidean_distance(x1, x2):\n",
        "  return np.sqrt(np.sum((x1-x2)**2))\n",
        "\n",
        "def knn(X_train, y_train, test_point, k=3):\n",
        "  distances = [euclidean_distance(test_point, x) for x in X_train]\n",
        "  k_indices = np.argsort(distances)[:k]\n",
        "  k_nearest_labels = [y_train[i] for i in k_indices]\n",
        "  most_common = Counter(k_nearest_labels).most_common(1)\n",
        "  return most_common[0][0]\n",
        "\n",
        "\n",
        "# Prepare the data\n",
        "X = df[['feature1', 'feature2']].values\n",
        "y = df['class'].values\n",
        "\n",
        "# Example usage:\n",
        "test_point = np.array([6, 6]) # Example test point\n",
        "predicted_class = knn(X, y, test_point, k=3)\n",
        "print(f\"Predicted class for {test_point}: {predicted_class}\")\n",
        "\n",
        "# Example usage with multiple test points:\n",
        "test_points = [[6,6], [2,3], [9,10]]\n",
        "for point in test_points:\n",
        "    predicted_class = knn(X, y, np.array(point),k=3)\n",
        "    print(f\"Predicted class for {point}: {predicted_class}\")\n"
      ]
    },
    {
      "cell_type": "code",
      "source": [
        "import numpy as np\n",
        "import pandas as pd\n",
        "import matplotlib.pyplot as plt\n",
        "from collections import Counter\n",
        "\n",
        "# Sample dataset (replace with your actual dataset)\n",
        "data = {'feature1': [1, 2, 3, 4, 5, 6, 7, 8, 9, 10],\n",
        "        'feature2': [2, 4, 1, 3, 5, 7, 6, 8, 10, 9],\n",
        "        'class': [-1, -1, 1, 1, -1, 1, -1, 1, 1, -1]}  # Using -1 and 1 for class labels\n",
        "df = pd.DataFrame(data)\n",
        "\n",
        "# Prepare the data\n",
        "X = df[['feature1', 'feature2']].values\n",
        "y = df['class'].values\n",
        "\n",
        "class SVM:\n",
        "    def __init__(self, learning_rate=0.001, lambda_param=0.01, n_iters=1000):\n",
        "        self.lr = learning_rate\n",
        "        self.lambda_param = lambda_param\n",
        "        self.n_iters = n_iters\n",
        "        self.w = None\n",
        "        self.b = None\n",
        "\n",
        "    def fit(self, X, y):\n",
        "        n_samples, n_features = X.shape\n",
        "\n",
        "        y_ = np.where(y <= 0, -1, 1)\n",
        "\n",
        "        self.w = np.zeros(n_features)\n",
        "        self.b = 0\n",
        "\n",
        "        for _ in range(self.n_iters):\n",
        "            for idx, x_i in enumerate(X):\n",
        "                condition = y_[idx] * (np.dot(x_i, self.w) - self.b) >= 1\n",
        "                if condition:\n",
        "                    self.w -= self.lr * (2 * self.lambda_param * self.w)\n",
        "                else:\n",
        "                    self.w -= self.lr * (2 * self.lambda_param * self.w - np.dot(x_i, y_[idx]))\n",
        "                    self.b -= self.lr * y_[idx]\n",
        "\n",
        "    def predict(self, X):\n",
        "        approx = np.dot(X, self.w) - self.b\n",
        "        return np.sign(approx)\n",
        "\n",
        "# Initialize and train the SVM\n",
        "clf = SVM()\n",
        "clf.fit(X, y)\n",
        "\n",
        "# Make predictions\n",
        "test_points = [[6, 6], [2, 3], [9, 10]]\n",
        "for point in test_points:\n",
        "    prediction = clf.predict(np.array(point))\n",
        "    print(f\"Predicted class for {point}: {prediction}\")\n",
        "\n",
        "X = df[['feature1', 'feature2']].values\n",
        "y = df['class'].values\n",
        "\n",
        "# Plotting the decision boundary\n",
        "def plot_decision_boundary(clf, X, y):\n",
        "    x1_min, x1_max = X[:, 0].min() - 1, X[:, 0].max() + 1\n",
        "    x2_min, x2_max = X[:, 1].min() - 1, X[:, 1].max() + 1\n",
        "    xx1, xx2 = np.meshgrid(np.arange(x1_min, x1_max, 0.01),\n",
        "                         np.arange(x2_min, x2_max, 0.01))\n",
        "    Z = clf.predict(np.c_[xx1.ravel(), xx2.ravel()])\n",
        "    Z = Z.reshape(xx1.shape)\n",
        "    plt.contourf(xx1, xx2, Z, alpha=0.4)\n",
        "    plt.scatter(X[:, 0], X[:, 1], c=y, cmap='viridis')\n",
        "    plt.xlabel('Feature 1')\n",
        "    plt.ylabel('Feature 2')\n",
        "    plt.title('SVM Decision Boundary')\n",
        "\n",
        "# Initialize and train the SVM\n",
        "clf = SVM()\n",
        "clf.fit(X, y)\n",
        "\n",
        "# Make predictions and print results\n",
        "test_points = [[6, 6], [2, 3], [9, 10]]\n",
        "for point in test_points:\n",
        "    prediction = clf.predict(np.array(point))\n",
        "    print(f\"Predicted class for {point}: {prediction}\")\n",
        "\n",
        "# Plot the decision boundary\n",
        "plot_decision_boundary(clf, X, y)\n",
        "plt.show()\n"
      ],
      "metadata": {
        "colab": {
          "base_uri": "https://localhost:8080/",
          "height": 576
        },
        "id": "e8T5bhEAoZDK",
        "outputId": "b5925734-6854-4bde-f4d3-698cbd02d3b3"
      },
      "execution_count": 10,
      "outputs": [
        {
          "output_type": "stream",
          "name": "stdout",
          "text": [
            "Predicted class for [6, 6]: 1.0\n",
            "Predicted class for [2, 3]: -1.0\n",
            "Predicted class for [9, 10]: 1.0\n",
            "Predicted class for [6, 6]: 1.0\n",
            "Predicted class for [2, 3]: -1.0\n",
            "Predicted class for [9, 10]: 1.0\n"
          ]
        },
        {
          "output_type": "display_data",
          "data": {
            "text/plain": [
              "<Figure size 640x480 with 1 Axes>"
            ],
            "image/png": "[encoded data removed]"
          },
          "metadata": {}
        }
      ]
    }
  ]
}